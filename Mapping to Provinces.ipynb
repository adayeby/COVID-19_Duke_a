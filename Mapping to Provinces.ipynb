{
 "cells": [
  {
   "cell_type": "code",
   "execution_count": 2,
   "metadata": {},
   "outputs": [],
   "source": [
    "#Compute provincial outflows \n",
    "import numpy as np\n",
    "import matplotlib as mpl\n",
    "import matplotlib.pyplot as plt\n",
    "import pandas as pd\n",
    "import csv\n",
    "import os\n",
    "import datetime as dt"
   ]
  },
  {
   "cell_type": "code",
   "execution_count": 3,
   "metadata": {},
   "outputs": [
    {
     "name": "stdout",
     "output_type": "stream",
     "text": [
      "               City_EN City_CH Prov_CH  Prov_EN\n",
      "0       Beijing_110000     北京市     北京市  Beijing\n",
      "1       Tianjin_120000     天津市     天津市  Tianjin\n",
      "2  Shijiazhuang_130100    石家庄市     河北省    Hebei\n",
      "3      Tangshan_130200     唐山市     河北省    Hebei\n",
      "4   Qinhuangdao_130300    秦皇岛市     河北省    Hebei\n"
     ]
    }
   ],
   "source": [
    "#First, make a dictionary of cities as key and provinces as values. \n",
    "cityreader = pd.read_csv(\"BaiduMobilityDirectory.csv\")\n",
    "print(cityreader.head())"
   ]
  },
  {
   "cell_type": "code",
   "execution_count": 4,
   "metadata": {},
   "outputs": [],
   "source": [
    "citytoProv = {}\n",
    "for i in range(len(cityreader)):\n",
    "    row = cityreader.loc[i,:]\n",
    "    citytoProv[row[\"City_EN\"]] = row[\"Prov_EN\"]"
   ]
  },
  {
   "cell_type": "code",
   "execution_count": 10,
   "metadata": {},
   "outputs": [
    {
     "name": "stdout",
     "output_type": "stream",
     "text": [
      "   Unnamed: 0  X        date        city_out              city_in  \\\n",
      "0           1  0  2020-01-10  Beijing_110000       Tianjin_120000   \n",
      "1           2  1  2020-01-10  Beijing_110000  Shijiazhuang_130100   \n",
      "2           3  2  2020-01-10  Beijing_110000      Tangshan_130200   \n",
      "3           4  3  2020-01-10  Beijing_110000   Qinhuangdao_130300   \n",
      "4           5  4  2020-01-10  Beijing_110000        Handan_130400   \n",
      "\n",
      "   Percentages  predicted_flow city_out_name  city_in_name  \n",
      "0         6.98    67023.129637       Beijing       Tianjin  \n",
      "1         2.08    19972.508545       Beijing  Shijiazhuang  \n",
      "2         1.76    16899.814923       Beijing      Tangshan  \n",
      "3         0.75     7201.625677       Beijing   Qinhuangdao  \n",
      "4         1.78    17091.858274       Beijing        Handan  \n"
     ]
    }
   ],
   "source": [
    "#import and process new_baidu_out\n",
    "bd = pd.read_csv(\"new_baidu_out.csv\")\n",
    "print(bd.head())"
   ]
  },
  {
   "cell_type": "code",
   "execution_count": 11,
   "metadata": {},
   "outputs": [
    {
     "name": "stdout",
     "output_type": "stream",
     "text": [
      "complete!\n"
     ]
    }
   ],
   "source": [
    "prov_out = []\n",
    "prov_in = []\n",
    "for r in range(len(bd)):\n",
    "    row = bd.loc[r,:]\n",
    "    prov_out.append(citytoProv[row[\"city_out\"]])\n",
    "    prov_in.append(citytoProv[row[\"city_in\"]])\n",
    "    if r == len(bd)-1:\n",
    "        print(\"complete!\")\n",
    "\n",
    "bd[\"prov_out\"] = prov_out\n",
    "bd[\"prov_in\"] = prov_in"
   ]
  },
  {
   "cell_type": "code",
   "execution_count": 12,
   "metadata": {},
   "outputs": [],
   "source": [
    "bd.to_csv(\"baidu_out_city_prov.csv\",encoding='utf-8')"
   ]
  },
  {
   "cell_type": "code",
   "execution_count": 6,
   "metadata": {},
   "outputs": [
    {
     "name": "stdout",
     "output_type": "stream",
     "text": [
      "   Unnamed: 0      Date        City_out              City_in     %        date\n",
      "0           1  01/24/20  Beijing_110000       Beijing_110000   NaN  2020-01-24\n",
      "1           2  01/24/20  Beijing_110000       Tianjin_120000  3.31  2020-01-24\n",
      "2           3  01/24/20  Beijing_110000  Shijiazhuang_130100  2.51  2020-01-24\n",
      "3           4  01/24/20  Beijing_110000      Tangshan_130200  1.89  2020-01-24\n",
      "4           5  01/24/20  Beijing_110000   Qinhuangdao_130300  0.90  2020-01-24\n"
     ]
    }
   ],
   "source": [
    "#mapping of post-1/23/20 data\n",
    "bd123 = pd.read_csv(\"baidu_out_post123.csv\")\n",
    "print(bd123.head())"
   ]
  },
  {
   "cell_type": "code",
   "execution_count": 8,
   "metadata": {},
   "outputs": [
    {
     "name": "stdout",
     "output_type": "stream",
     "text": [
      "complete!\n"
     ]
    }
   ],
   "source": [
    "prov_out_post123 = []\n",
    "prov_in_post123 = []\n",
    "for r in range(len(bd123)):\n",
    "    row = bd123.loc[r,:]\n",
    "    prov_out_post123.append(citytoProv[row[\"City_out\"]])\n",
    "    prov_in_post123.append(citytoProv[row[\"City_in\"]])\n",
    "    if r == len(bd123)-1:\n",
    "        print(\"complete!\")\n",
    "\n",
    "bd123[\"prov_out\"] = prov_out_post123\n",
    "bd123[\"prov_in\"] = prov_in_post123"
   ]
  },
  {
   "cell_type": "code",
   "execution_count": 10,
   "metadata": {},
   "outputs": [],
   "source": [
    "bd123.to_csv(\"baidu_out_post123_withprov.csv\",encoding='utf-8')"
   ]
  },
  {
   "cell_type": "code",
   "execution_count": null,
   "metadata": {},
   "outputs": [],
   "source": []
  }
 ],
 "metadata": {
  "kernelspec": {
   "display_name": "Python 3",
   "language": "python",
   "name": "python3"
  },
  "language_info": {
   "codemirror_mode": {
    "name": "ipython",
    "version": 3
   },
   "file_extension": ".py",
   "mimetype": "text/x-python",
   "name": "python",
   "nbconvert_exporter": "python",
   "pygments_lexer": "ipython3",
   "version": "3.7.3"
  }
 },
 "nbformat": 4,
 "nbformat_minor": 2
}
